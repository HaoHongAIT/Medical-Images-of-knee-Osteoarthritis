{
  "nbformat": 4,
  "nbformat_minor": 0,
  "metadata": {
    "colab": {
      "provenance": []
    },
    "kernelspec": {
      "name": "python3",
      "display_name": "Python 3"
    },
    "language_info": {
      "name": "python"
    },
    "accelerator": "GPU",
    "gpuClass": "standard"
  },
  "cells": [
    {
      "cell_type": "code",
      "source": [
        "a = [0,1]\n",
        "print(a[0])"
      ],
      "metadata": {
        "id": "24X7-_cKiUTF",
        "outputId": "60644e77-7d7d-4554-9289-39eb4d4420a7",
        "colab": {
          "base_uri": "https://localhost:8080/"
        }
      },
      "execution_count": null,
      "outputs": [
        {
          "output_type": "stream",
          "name": "stdout",
          "text": [
            "0\n"
          ]
        }
      ]
    },
    {
      "cell_type": "code",
      "execution_count": null,
      "metadata": {
        "colab": {
          "base_uri": "https://localhost:8080/"
        },
        "id": "1M1hbVGTrGHs",
        "outputId": "9cfeae47-6608-459b-d258-178331f5739a"
      },
      "outputs": [
        {
          "output_type": "stream",
          "name": "stdout",
          "text": [
            "Mounted at /content/drive\n"
          ]
        }
      ],
      "source": [
        "from google.colab import drive\n",
        "drive.mount('/content/drive')"
      ]
    },
    {
      "cell_type": "code",
      "source": [
        "pwd"
      ],
      "metadata": {
        "colab": {
          "base_uri": "https://localhost:8080/",
          "height": 36
        },
        "id": "2qAuDqofrm_a",
        "outputId": "ca4366b9-241e-4e22-9ca6-53e9dfc76d90"
      },
      "execution_count": null,
      "outputs": [
        {
          "output_type": "execute_result",
          "data": {
            "text/plain": [
              "'/content'"
            ],
            "application/vnd.google.colaboratory.intrinsic+json": {
              "type": "string"
            }
          },
          "metadata": {},
          "execution_count": 2
        }
      ]
    },
    {
      "cell_type": "code",
      "source": [
        "cd /content/drive/MyDrive/Colab Notebooks/weights"
      ],
      "metadata": {
        "colab": {
          "base_uri": "https://localhost:8080/"
        },
        "id": "dvyJGbb_roMU",
        "outputId": "83ee895d-2913-4d98-9f56-ac7083b48a73"
      },
      "execution_count": null,
      "outputs": [
        {
          "output_type": "stream",
          "name": "stdout",
          "text": [
            "/content/drive/MyDrive/Colab Notebooks/weights\n"
          ]
        }
      ]
    },
    {
      "cell_type": "markdown",
      "source": [
        "**Các thư viện cần thiết**"
      ],
      "metadata": {
        "id": "WkoEZTVRrpgi"
      }
    },
    {
      "cell_type": "code",
      "source": [
        "!pip install tensorflow_addons\n",
        "!pip install --quiet vit-keras"
      ],
      "metadata": {
        "colab": {
          "base_uri": "https://localhost:8080/"
        },
        "id": "7IzdgIDgNb0d",
        "outputId": "72667595-e262-4587-ad5f-e5a3da504f35"
      },
      "execution_count": null,
      "outputs": [
        {
          "output_type": "stream",
          "name": "stdout",
          "text": [
            "Looking in indexes: https://pypi.org/simple, https://us-python.pkg.dev/colab-wheels/public/simple/\n",
            "Collecting tensorflow_addons\n",
            "  Downloading tensorflow_addons-0.19.0-cp39-cp39-manylinux_2_17_x86_64.manylinux2014_x86_64.whl (1.1 MB)\n",
            "\u001b[2K     \u001b[90m━━━━━━━━━━━━━━━━━━━━━━━━━━━━━━━━━━━━━━━━\u001b[0m \u001b[32m1.1/1.1 MB\u001b[0m \u001b[31m10.4 MB/s\u001b[0m eta \u001b[36m0:00:00\u001b[0m\n",
            "\u001b[?25hRequirement already satisfied: packaging in /usr/local/lib/python3.9/dist-packages (from tensorflow_addons) (23.0)\n",
            "Collecting typeguard>=2.7\n",
            "  Downloading typeguard-3.0.1-py3-none-any.whl (30 kB)\n",
            "Requirement already satisfied: importlib-metadata>=3.6 in /usr/local/lib/python3.9/dist-packages (from typeguard>=2.7->tensorflow_addons) (6.0.0)\n",
            "Requirement already satisfied: typing-extensions>=4.4.0 in /usr/local/lib/python3.9/dist-packages (from typeguard>=2.7->tensorflow_addons) (4.5.0)\n",
            "Requirement already satisfied: zipp>=0.5 in /usr/local/lib/python3.9/dist-packages (from importlib-metadata>=3.6->typeguard>=2.7->tensorflow_addons) (3.15.0)\n",
            "Installing collected packages: typeguard, tensorflow_addons\n",
            "Successfully installed tensorflow_addons-0.19.0 typeguard-3.0.1\n",
            "  Preparing metadata (setup.py) ... \u001b[?25l\u001b[?25hdone\n",
            "  Building wheel for validators (setup.py) ... \u001b[?25l\u001b[?25hdone\n"
          ]
        }
      ]
    },
    {
      "cell_type": "code",
      "source": [
        "import os\n",
        "import cv2\n",
        "import numpy as np\n",
        "import tensorflow as tf\n",
        "from matplotlib import pyplot as plt\n",
        "import warnings\n",
        "\n",
        "\n",
        "from sklearn.preprocessing import LabelBinarizer\n",
        "from sklearn.model_selection import train_test_split\n",
        "from sklearn.metrics import accuracy_score\n",
        "from sklearn.metrics import classification_report\n",
        "from sklearn.metrics import accuracy_score\n",
        "\n",
        "\n",
        "from keras.preprocessing.image import ImageDataGenerator\n",
        "from keras.applications import InceptionV3, DenseNet201, MobileNet, InceptionResNetV2, Xception\t\n",
        "from keras.models import Sequential, Model\n",
        "from keras.layers import Dense, Flatten, Conv2D, Activation, BatchNormalization, MaxPooling2D, Dropout, Input, concatenate\n",
        "from keras.engine.training import model_serialization\n",
        "from keras.regularizers import l2\n",
        "from keras.utils import plot_model\n",
        "from keras import optimizers\n",
        "from keras import regularizers\n",
        "\n",
        "from skimage import exposure\n",
        "import tensorflow_addons as tfa"
      ],
      "metadata": {
        "id": "mrbv79nsrsqw"
      },
      "execution_count": null,
      "outputs": []
    },
    {
      "cell_type": "code",
      "source": [
        "warnings.filterwarnings('ignore')\n",
        "print('TensorFlow Version ' + tf.__version__)"
      ],
      "metadata": {
        "colab": {
          "base_uri": "https://localhost:8080/"
        },
        "id": "UROM2Zpl-jMC",
        "outputId": "ade670af-6702-4e3a-b764-0b74a09777b7"
      },
      "execution_count": null,
      "outputs": [
        {
          "output_type": "stream",
          "name": "stdout",
          "text": [
            "TensorFlow Version 2.11.0\n"
          ]
        }
      ]
    },
    {
      "cell_type": "markdown",
      "source": [
        "# **Chuẩn bị dữ liệu huấn luyện**"
      ],
      "metadata": {
        "id": "XGyYvJ89ruVj"
      }
    },
    {
      "cell_type": "code",
      "source": [
        "categories = ['Normal', 'Doubtful', 'Mild', 'Moderate', 'Severe']\n",
        "\n",
        "label_dict = {\n",
        "    'Normal': 0,\n",
        "    'Doubtful': 1,\n",
        "    'Mild': 2,\n",
        "    'Moderate': 3,\n",
        "    'Severe': 4\n",
        "}\n",
        "\n",
        "print(label_dict)"
      ],
      "metadata": {
        "colab": {
          "base_uri": "https://localhost:8080/"
        },
        "id": "rmUzg9xNr4Dx",
        "outputId": "b2d78440-f744-47fb-bffa-3671d618a10a"
      },
      "execution_count": null,
      "outputs": [
        {
          "output_type": "stream",
          "name": "stdout",
          "text": [
            "{'Normal': 0, 'Doubtful': 1, 'Mild': 2, 'Moderate': 3, 'Severe': 4}\n"
          ]
        }
      ]
    },
    {
      "cell_type": "code",
      "source": [
        "import cv2\n",
        "\n",
        "img_size = 224\n",
        "data = []\n",
        "label = []\n",
        "#Folder 1\n",
        "data_path_1 = '/content/drive/My Drive/gMedicalAI/Knee X-ray Images/MedicalExpert-II'\n",
        "for category in categories:\n",
        "  folder_path = os.path.join(data_path_1,category)\n",
        "  print(folder_path)\n",
        "  img_names = os.listdir(folder_path)\n",
        "      \n",
        "  for img_name in img_names:\n",
        "    img_path = os.path.join(folder_path,img_name)\n",
        "    img = cv2.imread(img_path)\n",
        "\n",
        "    # Chuyển ảnh sang không gian màu Lab\n",
        "    lab = cv2.cvtColor(img, cv2.COLOR_BGR2LAB)\n",
        "\n",
        "    # Tách các kênh màu\n",
        "    l, a, b = cv2.split(lab)\n",
        "\n",
        "    # Tạo đối tượng CLAHE cho các kênh màu\n",
        "    clahe = cv2.createCLAHE(clipLimit=2.0, tileGridSize=(8, 8))\n",
        "    clahe_l = clahe.apply(l)\n",
        "    clahe_a = clahe.apply(a)\n",
        "    clahe_b = clahe.apply(b)\n",
        "\n",
        "    # Kết hợp các kênh màu đã được xử lý\n",
        "    lab_clahe = cv2.merge((clahe_l, clahe_a, clahe_b))\n",
        "\n",
        "    # Chuyển đổi lại sang không gian màu RGB\n",
        "    result = cv2.cvtColor(lab_clahe, cv2.COLOR_LAB2BGR)\n",
        "\n",
        "    resized = cv2.resize(result,(img_size,img_size))\n",
        "    data.append(resized)\n",
        "    label.append(label_dict[category])"
      ],
      "metadata": {
        "colab": {
          "base_uri": "https://localhost:8080/"
        },
        "id": "fSujU3KLr-gY",
        "outputId": "d2374470-9545-4366-e93e-3656fe16b652"
      },
      "execution_count": null,
      "outputs": [
        {
          "output_type": "stream",
          "name": "stdout",
          "text": [
            "/content/drive/My Drive/gMedicalAI/Knee X-ray Images/MedicalExpert-II/Normal\n",
            "/content/drive/My Drive/gMedicalAI/Knee X-ray Images/MedicalExpert-II/Doubtful\n",
            "/content/drive/My Drive/gMedicalAI/Knee X-ray Images/MedicalExpert-II/Mild\n",
            "/content/drive/My Drive/gMedicalAI/Knee X-ray Images/MedicalExpert-II/Moderate\n",
            "/content/drive/My Drive/gMedicalAI/Knee X-ray Images/MedicalExpert-II/Severe\n"
          ]
        }
      ]
    },
    {
      "cell_type": "code",
      "source": [
        "print(len(data), len(label))"
      ],
      "metadata": {
        "colab": {
          "base_uri": "https://localhost:8080/"
        },
        "id": "e0WxEdFSscNC",
        "outputId": "147b0ddd-73c5-4b14-b5ac-aa5c1c6a298d"
      },
      "execution_count": null,
      "outputs": [
        {
          "output_type": "stream",
          "name": "stdout",
          "text": [
            "1650 1650\n"
          ]
        }
      ]
    },
    {
      "cell_type": "code",
      "source": [
        "data = np.array(data)\n",
        "label = np.array(label)\n",
        "\n",
        "encoder = LabelBinarizer()\n",
        "label = encoder.fit_transform(label)"
      ],
      "metadata": {
        "id": "sV8EDEetsfUt"
      },
      "execution_count": null,
      "outputs": []
    },
    {
      "cell_type": "code",
      "source": [
        "X_train, X_test, y_train, y_test = train_test_split(data, label, test_size = 0.2, random_state = 42)\n",
        "X_train, X_val, y_train, y_val = train_test_split(X_train, y_train, test_size = 0.2, random_state = 42)"
      ],
      "metadata": {
        "id": "5eOl-cp3sgzt"
      },
      "execution_count": null,
      "outputs": []
    },
    {
      "cell_type": "code",
      "source": [
        "train_gen = ImageDataGenerator(rescale=1./255,\n",
        "                                zoom_range=.25,\n",
        "                                shear_range=.25,\n",
        "                                horizontal_flip=True,\n",
        "                                rotation_range=40,)\n",
        "\n",
        "val_gen = ImageDataGenerator(rescale=1./255)\n",
        "\n",
        "train_set = train_gen.flow(X_train, y_train)\n",
        "val_set = val_gen.flow(X_val, y_val)\n",
        "test_set = val_gen.flow(X_test, y_test)"
      ],
      "metadata": {
        "id": "d_U-KniTsnzp"
      },
      "execution_count": null,
      "outputs": []
    },
    {
      "cell_type": "markdown",
      "source": [
        "# **Huấn luyện mô hình**"
      ],
      "metadata": {
        "id": "mFWCFn-gsr1u"
      }
    },
    {
      "cell_type": "code",
      "source": [
        "InceptionV3_model = InceptionV3(weights = 'imagenet', include_top = False, \n",
        "                    input_shape = (224, 224, 3))\n",
        "\n",
        "DenseNet201_model = DenseNet201(weights = 'imagenet', include_top = False,\n",
        "                    input_shape = (224, 224, 3))\n",
        "\n",
        "MobileNet_model = MobileNet(weights = 'imagenet', include_top = False,\n",
        "                    input_shape = (224, 224, 3))\n",
        "\n",
        "input_tensor = Input(shape=(224, 224, 3))"
      ],
      "metadata": {
        "id": "4s2DQ6AGsvYs"
      },
      "execution_count": null,
      "outputs": []
    },
    {
      "cell_type": "code",
      "source": [
        "learning_rate = 1e-4\n",
        "\n",
        "reduce_lr = tf.keras.callbacks.ReduceLROnPlateau(monitor = 'val_acc',\n",
        "                                                 factor = 0.5,\n",
        "                                                 patience = 5,\n",
        "                                                 verbose = 1,\n",
        "                                                 min_delta = 1e-4,\n",
        "                                                 min_lr = 1e-6,\n",
        "                                                 mode = 'max')\n",
        "\n",
        "earlystopping = tf.keras.callbacks.EarlyStopping(monitor = 'val_acc',\n",
        "                                                 min_delta = 1e-4,\n",
        "                                                 patience = 12,\n",
        "                                                 mode = 'max',\n",
        "                                                 restore_best_weights = True,\n",
        "                                                 verbose = 1)"
      ],
      "metadata": {
        "id": "wQR7BQX4676V"
      },
      "execution_count": null,
      "outputs": []
    },
    {
      "cell_type": "code",
      "source": [
        "def encode(array):\n",
        "  new_array = []\n",
        "  for i in array:\n",
        "    index = np.where(i == np.amax(i))[0][0]\n",
        "    i[index] = int(1)\n",
        "    for j in range(len(i)):\n",
        "      if j == index:\n",
        "        continue\n",
        "      i[j] = int(0)\n",
        "    new_array.append(i)\n",
        "  return new_array"
      ],
      "metadata": {
        "id": "TDAha2QAILjN"
      },
      "execution_count": null,
      "outputs": []
    },
    {
      "cell_type": "markdown",
      "source": [
        "### Mô hình InceptionV3 + DenseNet201"
      ],
      "metadata": {
        "id": "uU4VecuxszKW"
      }
    },
    {
      "cell_type": "code",
      "source": [
        "InceptionV3_output = InceptionV3_model(input_tensor)\n",
        "InceptionV3_output = Flatten()(InceptionV3_output)\n",
        "InceptionV3_output = BatchNormalization()(InceptionV3_output)\n",
        "InceptionV3_output = Dropout(0.5)(InceptionV3_output)\n",
        "InceptionV3_output = Dense(1000, activation='relu', kernel_regularizer=regularizers.l2())(InceptionV3_output)\n",
        "\n",
        "DenseNet201_output = DenseNet201_model(input_tensor)\n",
        "DenseNet201_output = Flatten()(DenseNet201_output)\n",
        "DenseNet201_output = BatchNormalization()(DenseNet201_output)\n",
        "DenseNet201_output = Dropout(0.5)(DenseNet201_output)\n",
        "DenseNet201_output = Dense(1000, activation='relu', kernel_regularizer=regularizers.l2())(DenseNet201_output)"
      ],
      "metadata": {
        "id": "KFkWtLHAs4XR"
      },
      "execution_count": null,
      "outputs": []
    },
    {
      "cell_type": "code",
      "source": [
        "merged_InceptionV3_DenseNet201 = concatenate([DenseNet201_output, InceptionV3_output])\n",
        "x = Dense(256, activation='relu', kernel_regularizer=regularizers.l2())(merged_InceptionV3_DenseNet201)\n",
        "predictions_InceptionV3_DenseNet201 = Dense(5, activation='softmax')(x)\n",
        "\n",
        "# Khởi tạo model tổng thể\n",
        "model_InceptionV3_DenseNet201 = Model(inputs=input_tensor, outputs=predictions_InceptionV3_DenseNet201)"
      ],
      "metadata": {
        "id": "3uMiTlwltDK3"
      },
      "execution_count": null,
      "outputs": []
    },
    {
      "cell_type": "code",
      "source": [
        "model_InceptionV3_DenseNet201.summary()"
      ],
      "metadata": {
        "colab": {
          "base_uri": "https://localhost:8080/"
        },
        "id": "aFCCcPvrtmcK",
        "outputId": "baea8948-8375-4672-aa3e-d635a3aff603"
      },
      "execution_count": null,
      "outputs": [
        {
          "output_type": "stream",
          "name": "stdout",
          "text": [
            "Model: \"model\"\n",
            "__________________________________________________________________________________________________\n",
            " Layer (type)                   Output Shape         Param #     Connected to                     \n",
            "==================================================================================================\n",
            " input_4 (InputLayer)           [(None, 224, 224, 3  0           []                               \n",
            "                                )]                                                                \n",
            "                                                                                                  \n",
            " densenet201 (Functional)       (None, 7, 7, 1920)   18321984    ['input_4[0][0]']                \n",
            "                                                                                                  \n",
            " inception_v3 (Functional)      (None, 5, 5, 2048)   21802784    ['input_4[0][0]']                \n",
            "                                                                                                  \n",
            " flatten_1 (Flatten)            (None, 94080)        0           ['densenet201[0][0]']            \n",
            "                                                                                                  \n",
            " flatten (Flatten)              (None, 51200)        0           ['inception_v3[0][0]']           \n",
            "                                                                                                  \n",
            " batch_normalization_95 (BatchN  (None, 94080)       376320      ['flatten_1[0][0]']              \n",
            " ormalization)                                                                                    \n",
            "                                                                                                  \n",
            " batch_normalization_94 (BatchN  (None, 51200)       204800      ['flatten[0][0]']                \n",
            " ormalization)                                                                                    \n",
            "                                                                                                  \n",
            " dropout_1 (Dropout)            (None, 94080)        0           ['batch_normalization_95[0][0]'] \n",
            "                                                                                                  \n",
            " dropout (Dropout)              (None, 51200)        0           ['batch_normalization_94[0][0]'] \n",
            "                                                                                                  \n",
            " dense_1 (Dense)                (None, 1000)         94081000    ['dropout_1[0][0]']              \n",
            "                                                                                                  \n",
            " dense (Dense)                  (None, 1000)         51201000    ['dropout[0][0]']                \n",
            "                                                                                                  \n",
            " concatenate_2 (Concatenate)    (None, 2000)         0           ['dense_1[0][0]',                \n",
            "                                                                  'dense[0][0]']                  \n",
            "                                                                                                  \n",
            " dense_2 (Dense)                (None, 256)          512256      ['concatenate_2[0][0]']          \n",
            "                                                                                                  \n",
            " dense_3 (Dense)                (None, 5)            1285        ['dense_2[0][0]']                \n",
            "                                                                                                  \n",
            "==================================================================================================\n",
            "Total params: 186,501,429\n",
            "Trainable params: 185,947,381\n",
            "Non-trainable params: 554,048\n",
            "__________________________________________________________________________________________________\n"
          ]
        }
      ]
    },
    {
      "cell_type": "code",
      "source": [
        "plot_model(model_InceptionV3_DenseNet201, show_shapes=True, show_layer_activations=True)"
      ],
      "metadata": {
        "colab": {
          "base_uri": "https://localhost:8080/",
          "height": 976
        },
        "id": "PdG046tQtjfZ",
        "outputId": "896fd5f9-fda0-4c6e-975e-b0318eb002a6"
      },
      "execution_count": null,
      "outputs": [
        {
          "output_type": "execute_result",
          "data": {
            "image/png": "[encoded data removed]",
            "text/plain": [
              "<IPython.core.display.Image object>"
            ]
          },
          "metadata": {},
          "execution_count": 19
        }
      ]
    },
    {
      "cell_type": "code",
      "source": [
        "model_InceptionV3_DenseNet201.compile(loss='categorical_crossentropy',\n",
        "                    optimizer=optimizers.Adam(learning_rate=learning_rate),\n",
        "                    metrics=['acc'])"
      ],
      "metadata": {
        "id": "Cef4CsIDtqog"
      },
      "execution_count": null,
      "outputs": []
    },
    {
      "cell_type": "code",
      "source": [
        "filepath=\"model_InceptionV3_DenseNet201.h5\"\n",
        "\n",
        "checkpointer = tf.keras.callbacks.ModelCheckpoint(filepath = filepath,\n",
        "                                                  monitor = 'val_acc', \n",
        "                                                  verbose = 1, \n",
        "                                                  save_best_only = True,\n",
        "                                                  save_weights_only = True,\n",
        "                                                  mode = 'max')\n",
        "callbacks = [earlystopping, reduce_lr, checkpointer]\n",
        "\n",
        "hist_InceptionV3_DenseNet201 = model_InceptionV3_DenseNet201.fit(train_set,\n",
        "                             epochs = 100,\n",
        "                             batch_size = 16,\n",
        "                             verbose=1,\n",
        "                             validation_data = val_set,\n",
        "                              callbacks = callbacks)\n"
      ],
      "metadata": {
        "id": "0HR-qGrHtx39",
        "colab": {
          "base_uri": "https://localhost:8080/"
        },
        "outputId": "540dd134-1d97-41e2-9979-f8957cac25f8"
      },
      "execution_count": null,
      "outputs": [
        {
          "output_type": "stream",
          "name": "stdout",
          "text": [
            "Epoch 1/100\n",
            "33/33 [==============================] - ETA: 0s - loss: 41.8949 - acc: 0.4356\n",
            "Epoch 1: val_acc improved from -inf to 0.35985, saving model to model_InceptionV3_DenseNet201.h5\n",
            "33/33 [==============================] - 90s 1s/step - loss: 41.8949 - acc: 0.4356 - val_loss: 39.9687 - val_acc: 0.3598 - lr: 1.0000e-04\n",
            "Epoch 2/100\n",
            "33/33 [==============================] - ETA: 0s - loss: 36.4590 - acc: 0.5795\n",
            "Epoch 2: val_acc improved from 0.35985 to 0.48106, saving model to model_InceptionV3_DenseNet201.h5\n",
            "33/33 [==============================] - 39s 1s/step - loss: 36.4590 - acc: 0.5795 - val_loss: 35.6095 - val_acc: 0.4811 - lr: 1.0000e-04\n",
            "Epoch 3/100\n",
            "33/33 [==============================] - ETA: 0s - loss: 33.8964 - acc: 0.6269\n",
            "Epoch 3: val_acc improved from 0.48106 to 0.53788, saving model to model_InceptionV3_DenseNet201.h5\n",
            "33/33 [==============================] - 42s 1s/step - loss: 33.8964 - acc: 0.6269 - val_loss: 33.3531 - val_acc: 0.5379 - lr: 1.0000e-04\n",
            "Epoch 4/100\n",
            "33/33 [==============================] - ETA: 0s - loss: 32.1788 - acc: 0.6875\n",
            "Epoch 4: val_acc improved from 0.53788 to 0.64394, saving model to model_InceptionV3_DenseNet201.h5\n",
            "33/33 [==============================] - 40s 1s/step - loss: 32.1788 - acc: 0.6875 - val_loss: 31.5481 - val_acc: 0.6439 - lr: 1.0000e-04\n",
            "Epoch 5/100\n",
            "33/33 [==============================] - ETA: 0s - loss: 30.6403 - acc: 0.7348\n",
            "Epoch 5: val_acc improved from 0.64394 to 0.65152, saving model to model_InceptionV3_DenseNet201.h5\n",
            "33/33 [==============================] - 41s 1s/step - loss: 30.6403 - acc: 0.7348 - val_loss: 30.2892 - val_acc: 0.6515 - lr: 1.0000e-04\n",
            "Epoch 6/100\n",
            "33/33 [==============================] - ETA: 0s - loss: 29.2921 - acc: 0.7519\n",
            "Epoch 6: val_acc improved from 0.65152 to 0.67803, saving model to model_InceptionV3_DenseNet201.h5\n",
            "33/33 [==============================] - 40s 1s/step - loss: 29.2921 - acc: 0.7519 - val_loss: 28.9769 - val_acc: 0.6780 - lr: 1.0000e-04\n",
            "Epoch 7/100\n",
            "33/33 [==============================] - ETA: 0s - loss: 28.0267 - acc: 0.7377\n",
            "Epoch 7: val_acc improved from 0.67803 to 0.68182, saving model to model_InceptionV3_DenseNet201.h5\n",
            "33/33 [==============================] - 40s 1s/step - loss: 28.0267 - acc: 0.7377 - val_loss: 27.5351 - val_acc: 0.6818 - lr: 1.0000e-04\n",
            "Epoch 8/100\n",
            "33/33 [==============================] - ETA: 0s - loss: 26.6674 - acc: 0.7926\n",
            "Epoch 8: val_acc improved from 0.68182 to 0.69318, saving model to model_InceptionV3_DenseNet201.h5\n",
            "33/33 [==============================] - 39s 1s/step - loss: 26.6674 - acc: 0.7926 - val_loss: 26.4377 - val_acc: 0.6932 - lr: 1.0000e-04\n",
            "Epoch 9/100\n",
            "33/33 [==============================] - ETA: 0s - loss: 25.3791 - acc: 0.8153\n",
            "Epoch 9: val_acc improved from 0.69318 to 0.69697, saving model to model_InceptionV3_DenseNet201.h5\n",
            "33/33 [==============================] - 43s 1s/step - loss: 25.3791 - acc: 0.8153 - val_loss: 25.0596 - val_acc: 0.6970 - lr: 1.0000e-04\n",
            "Epoch 10/100\n",
            "33/33 [==============================] - ETA: 0s - loss: 24.1310 - acc: 0.8021\n",
            "Epoch 10: val_acc did not improve from 0.69697\n",
            "33/33 [==============================] - 31s 911ms/step - loss: 24.1310 - acc: 0.8021 - val_loss: 23.8470 - val_acc: 0.6970 - lr: 1.0000e-04\n",
            "Epoch 11/100\n",
            "33/33 [==============================] - ETA: 0s - loss: 22.8874 - acc: 0.8381\n",
            "Epoch 11: val_acc improved from 0.69697 to 0.77273, saving model to model_InceptionV3_DenseNet201.h5\n",
            "33/33 [==============================] - 38s 1s/step - loss: 22.8874 - acc: 0.8381 - val_loss: 22.4743 - val_acc: 0.7727 - lr: 1.0000e-04\n",
            "Epoch 12/100\n",
            "33/33 [==============================] - ETA: 0s - loss: 21.6833 - acc: 0.8447\n",
            "Epoch 12: val_acc improved from 0.77273 to 0.78409, saving model to model_InceptionV3_DenseNet201.h5\n",
            "33/33 [==============================] - 40s 1s/step - loss: 21.6833 - acc: 0.8447 - val_loss: 21.4347 - val_acc: 0.7841 - lr: 1.0000e-04\n",
            "Epoch 13/100\n",
            "33/33 [==============================] - ETA: 0s - loss: 20.4475 - acc: 0.8835\n",
            "Epoch 13: val_acc did not improve from 0.78409\n",
            "33/33 [==============================] - 31s 938ms/step - loss: 20.4475 - acc: 0.8835 - val_loss: 20.6947 - val_acc: 0.7348 - lr: 1.0000e-04\n",
            "Epoch 14/100\n",
            "33/33 [==============================] - ETA: 0s - loss: 19.3044 - acc: 0.8826\n",
            "Epoch 14: val_acc did not improve from 0.78409\n",
            "33/33 [==============================] - 30s 893ms/step - loss: 19.3044 - acc: 0.8826 - val_loss: 19.4480 - val_acc: 0.7689 - lr: 1.0000e-04\n",
            "Epoch 15/100\n",
            "33/33 [==============================] - ETA: 0s - loss: 18.2078 - acc: 0.8958\n",
            "Epoch 15: val_acc did not improve from 0.78409\n",
            "33/33 [==============================] - 30s 894ms/step - loss: 18.2078 - acc: 0.8958 - val_loss: 18.1914 - val_acc: 0.7727 - lr: 1.0000e-04\n",
            "Epoch 16/100\n",
            "33/33 [==============================] - ETA: 0s - loss: 17.2052 - acc: 0.8788\n",
            "Epoch 16: val_acc improved from 0.78409 to 0.79545, saving model to model_InceptionV3_DenseNet201.h5\n",
            "33/33 [==============================] - 39s 1s/step - loss: 17.2052 - acc: 0.8788 - val_loss: 17.0317 - val_acc: 0.7955 - lr: 1.0000e-04\n",
            "Epoch 17/100\n",
            "33/33 [==============================] - ETA: 0s - loss: 16.1877 - acc: 0.8958\n",
            "Epoch 17: val_acc did not improve from 0.79545\n",
            "33/33 [==============================] - 30s 912ms/step - loss: 16.1877 - acc: 0.8958 - val_loss: 16.1310 - val_acc: 0.7652 - lr: 1.0000e-04\n",
            "Epoch 18/100\n",
            "33/33 [==============================] - ETA: 0s - loss: 15.2447 - acc: 0.8920\n",
            "Epoch 18: val_acc improved from 0.79545 to 0.82955, saving model to model_InceptionV3_DenseNet201.h5\n",
            "33/33 [==============================] - 41s 1s/step - loss: 15.2447 - acc: 0.8920 - val_loss: 15.1031 - val_acc: 0.8295 - lr: 1.0000e-04\n",
            "Epoch 19/100\n",
            "33/33 [==============================] - ETA: 0s - loss: 14.2605 - acc: 0.9186\n",
            "Epoch 19: val_acc did not improve from 0.82955\n",
            "33/33 [==============================] - 31s 921ms/step - loss: 14.2605 - acc: 0.9186 - val_loss: 14.6611 - val_acc: 0.7045 - lr: 1.0000e-04\n",
            "Epoch 20/100\n",
            "33/33 [==============================] - ETA: 0s - loss: 13.4022 - acc: 0.9119\n",
            "Epoch 20: val_acc did not improve from 0.82955\n",
            "33/33 [==============================] - 30s 902ms/step - loss: 13.4022 - acc: 0.9119 - val_loss: 13.5280 - val_acc: 0.7689 - lr: 1.0000e-04\n",
            "Epoch 21/100\n",
            "33/33 [==============================] - ETA: 0s - loss: 12.5988 - acc: 0.8977\n",
            "Epoch 21: val_acc did not improve from 0.82955\n",
            "33/33 [==============================] - 30s 888ms/step - loss: 12.5988 - acc: 0.8977 - val_loss: 13.1878 - val_acc: 0.7008 - lr: 1.0000e-04\n",
            "Epoch 22/100\n",
            "33/33 [==============================] - ETA: 0s - loss: 11.7929 - acc: 0.9129\n",
            "Epoch 22: val_acc did not improve from 0.82955\n",
            "33/33 [==============================] - 30s 894ms/step - loss: 11.7929 - acc: 0.9129 - val_loss: 11.9767 - val_acc: 0.7689 - lr: 1.0000e-04\n",
            "Epoch 23/100\n",
            "33/33 [==============================] - ETA: 0s - loss: 11.0666 - acc: 0.9072\n",
            "Epoch 23: ReduceLROnPlateau reducing learning rate to 4.999999873689376e-05.\n",
            "\n",
            "Epoch 23: val_acc did not improve from 0.82955\n",
            "33/33 [==============================] - 32s 965ms/step - loss: 11.0666 - acc: 0.9072 - val_loss: 11.2789 - val_acc: 0.7652 - lr: 1.0000e-04\n",
            "Epoch 24/100\n",
            "33/33 [==============================] - ETA: 0s - loss: 10.4667 - acc: 0.9403\n",
            "Epoch 24: val_acc did not improve from 0.82955\n",
            "33/33 [==============================] - 32s 965ms/step - loss: 10.4667 - acc: 0.9403 - val_loss: 11.0519 - val_acc: 0.7538 - lr: 5.0000e-05\n",
            "Epoch 25/100\n",
            "33/33 [==============================] - ETA: 0s - loss: 10.0717 - acc: 0.9460\n",
            "Epoch 25: val_acc did not improve from 0.82955\n",
            "33/33 [==============================] - 30s 901ms/step - loss: 10.0717 - acc: 0.9460 - val_loss: 10.4942 - val_acc: 0.7917 - lr: 5.0000e-05\n",
            "Epoch 26/100\n",
            "33/33 [==============================] - ETA: 0s - loss: 9.6799 - acc: 0.9631\n",
            "Epoch 26: val_acc did not improve from 0.82955\n",
            "33/33 [==============================] - 30s 895ms/step - loss: 9.6799 - acc: 0.9631 - val_loss: 10.1309 - val_acc: 0.8068 - lr: 5.0000e-05\n",
            "Epoch 27/100\n",
            "33/33 [==============================] - ETA: 0s - loss: 9.3081 - acc: 0.9706\n",
            "Epoch 27: val_acc did not improve from 0.82955\n",
            "33/33 [==============================] - 30s 904ms/step - loss: 9.3081 - acc: 0.9706 - val_loss: 9.7340 - val_acc: 0.8182 - lr: 5.0000e-05\n",
            "Epoch 28/100\n",
            "33/33 [==============================] - ETA: 0s - loss: 8.9591 - acc: 0.9697\n",
            "Epoch 28: val_acc improved from 0.82955 to 0.84470, saving model to model_InceptionV3_DenseNet201.h5\n",
            "33/33 [==============================] - 40s 1s/step - loss: 8.9591 - acc: 0.9697 - val_loss: 9.3217 - val_acc: 0.8447 - lr: 5.0000e-05\n",
            "Epoch 29/100\n",
            "33/33 [==============================] - ETA: 0s - loss: 8.6398 - acc: 0.9593\n",
            "Epoch 29: val_acc improved from 0.84470 to 0.87121, saving model to model_InceptionV3_DenseNet201.h5\n",
            "33/33 [==============================] - 40s 1s/step - loss: 8.6398 - acc: 0.9593 - val_loss: 8.9542 - val_acc: 0.8712 - lr: 5.0000e-05\n",
            "Epoch 30/100\n",
            "33/33 [==============================] - ETA: 0s - loss: 8.2905 - acc: 0.9716\n",
            "Epoch 30: val_acc did not improve from 0.87121\n",
            "33/33 [==============================] - 30s 912ms/step - loss: 8.2905 - acc: 0.9716 - val_loss: 8.6144 - val_acc: 0.8598 - lr: 5.0000e-05\n",
            "Epoch 31/100\n",
            "33/33 [==============================] - ETA: 0s - loss: 7.9841 - acc: 0.9621\n",
            "Epoch 31: val_acc did not improve from 0.87121\n",
            "33/33 [==============================] - 30s 916ms/step - loss: 7.9841 - acc: 0.9621 - val_loss: 8.3944 - val_acc: 0.8485 - lr: 5.0000e-05\n",
            "Epoch 32/100\n",
            "33/33 [==============================] - ETA: 0s - loss: 7.6342 - acc: 0.9744\n",
            "Epoch 32: val_acc did not improve from 0.87121\n",
            "33/33 [==============================] - 31s 921ms/step - loss: 7.6342 - acc: 0.9744 - val_loss: 8.1090 - val_acc: 0.8295 - lr: 5.0000e-05\n",
            "Epoch 33/100\n",
            "33/33 [==============================] - ETA: 0s - loss: 7.3532 - acc: 0.9602\n",
            "Epoch 33: val_acc did not improve from 0.87121\n",
            "33/33 [==============================] - 30s 895ms/step - loss: 7.3532 - acc: 0.9602 - val_loss: 7.6674 - val_acc: 0.8636 - lr: 5.0000e-05\n",
            "Epoch 34/100\n",
            "33/33 [==============================] - ETA: 0s - loss: 7.0337 - acc: 0.9669\n",
            "Epoch 34: ReduceLROnPlateau reducing learning rate to 2.499999936844688e-05.\n",
            "\n",
            "Epoch 34: val_acc did not improve from 0.87121\n",
            "33/33 [==============================] - 30s 893ms/step - loss: 7.0337 - acc: 0.9669 - val_loss: 7.4757 - val_acc: 0.8258 - lr: 5.0000e-05\n",
            "Epoch 35/100\n",
            "33/33 [==============================] - ETA: 0s - loss: 6.8064 - acc: 0.9669\n",
            "Epoch 35: val_acc did not improve from 0.87121\n",
            "33/33 [==============================] - 30s 896ms/step - loss: 6.8064 - acc: 0.9669 - val_loss: 7.3524 - val_acc: 0.8371 - lr: 2.5000e-05\n",
            "Epoch 36/100\n",
            "33/33 [==============================] - ETA: 0s - loss: 6.6524 - acc: 0.9830\n",
            "Epoch 36: val_acc did not improve from 0.87121\n",
            "33/33 [==============================] - 30s 900ms/step - loss: 6.6524 - acc: 0.9830 - val_loss: 7.1573 - val_acc: 0.8598 - lr: 2.5000e-05\n",
            "Epoch 37/100\n",
            "33/33 [==============================] - ETA: 0s - loss: 6.4963 - acc: 0.9886\n",
            "Epoch 37: val_acc did not improve from 0.87121\n",
            "33/33 [==============================] - 30s 896ms/step - loss: 6.4963 - acc: 0.9886 - val_loss: 7.1359 - val_acc: 0.8106 - lr: 2.5000e-05\n",
            "Epoch 38/100\n",
            "33/33 [==============================] - ETA: 0s - loss: 6.3515 - acc: 0.9811\n",
            "Epoch 38: val_acc did not improve from 0.87121\n",
            "33/33 [==============================] - 30s 894ms/step - loss: 6.3515 - acc: 0.9811 - val_loss: 6.9778 - val_acc: 0.8182 - lr: 2.5000e-05\n",
            "Epoch 39/100\n",
            "33/33 [==============================] - ETA: 0s - loss: 6.2136 - acc: 0.9744\n",
            "Epoch 39: ReduceLROnPlateau reducing learning rate to 1.249999968422344e-05.\n",
            "\n",
            "Epoch 39: val_acc did not improve from 0.87121\n",
            "33/33 [==============================] - 30s 897ms/step - loss: 6.2136 - acc: 0.9744 - val_loss: 6.7150 - val_acc: 0.8523 - lr: 2.5000e-05\n",
            "Epoch 40/100\n",
            "33/33 [==============================] - ETA: 0s - loss: 6.0939 - acc: 0.9839\n",
            "Epoch 40: val_acc did not improve from 0.87121\n",
            "33/33 [==============================] - 30s 900ms/step - loss: 6.0939 - acc: 0.9839 - val_loss: 6.6987 - val_acc: 0.8333 - lr: 1.2500e-05\n",
            "Epoch 41/100\n",
            "33/33 [==============================] - ETA: 0s - loss: 6.0221 - acc: 0.9792Restoring model weights from the end of the best epoch: 29.\n",
            "\n",
            "Epoch 41: val_acc did not improve from 0.87121\n",
            "33/33 [==============================] - 31s 938ms/step - loss: 6.0221 - acc: 0.9792 - val_loss: 6.5994 - val_acc: 0.8333 - lr: 1.2500e-05\n",
            "Epoch 41: early stopping\n"
          ]
        }
      ]
    },
    {
      "cell_type": "code",
      "source": [
        "model_InceptionV3_DenseNet201.save('model_InceptionV3_DenseNet201_weights.h5')"
      ],
      "metadata": {
        "id": "rUJ96TJJHqOj"
      },
      "execution_count": null,
      "outputs": []
    },
    {
      "cell_type": "code",
      "source": [
        "save_model_InceptionV3_DenseNet201 = tf.keras.models.load_model(\"model_InceptionV3_DenseNet201_weights.h5\")"
      ],
      "metadata": {
        "id": "5HbT1EPDH32o"
      },
      "execution_count": null,
      "outputs": []
    },
    {
      "cell_type": "code",
      "source": [
        "save_score_InceptionV3_DenseNet201 = save_model_InceptionV3_DenseNet201.evaluate(test_set)\n",
        "print(save_score_InceptionV3_DenseNet201)\n",
        "print('-------------------------------------')"
      ],
      "metadata": {
        "colab": {
          "base_uri": "https://localhost:8080/"
        },
        "id": "Pa59M2dmIAmk",
        "outputId": "080cb8b9-4bf9-404e-c81b-1cf8d3205bf0"
      },
      "execution_count": null,
      "outputs": [
        {
          "output_type": "stream",
          "name": "stdout",
          "text": [
            "11/11 [==============================] - 7s 207ms/step - loss: 9.0095 - acc: 0.8485\n",
            "[9.009506225585938, 0.8484848737716675]\n",
            "-------------------------------------\n"
          ]
        }
      ]
    },
    {
      "cell_type": "code",
      "source": [
        "rs_InceptionV3_DenseNet201 = encode(save_model_InceptionV3_DenseNet201.predict(X_test/255.0).tolist())\n",
        "print('Model accuracy InceptionV3 + DenseNet201: ', accuracy_score(rs_InceptionV3_DenseNet201, y_test))\n",
        "print('-------------------------------------')"
      ],
      "metadata": {
        "colab": {
          "base_uri": "https://localhost:8080/"
        },
        "id": "HoEZ3SreIETA",
        "outputId": "3dacbf63-e8ad-4504-e5f9-a2016f9a0e54"
      },
      "execution_count": null,
      "outputs": [
        {
          "output_type": "stream",
          "name": "stdout",
          "text": [
            "11/11 [==============================] - 8s 205ms/step\n",
            "Model accuracy InceptionV3 + DenseNet201:  0.8484848484848485\n",
            "-------------------------------------\n"
          ]
        }
      ]
    },
    {
      "cell_type": "code",
      "source": [
        "print('InceptionV3 + DenseNet201:')\n",
        "print(classification_report(y_test, rs_InceptionV3_DenseNet201))"
      ],
      "metadata": {
        "colab": {
          "base_uri": "https://localhost:8080/"
        },
        "id": "jZkSbfYYIHdW",
        "outputId": "1c37d04f-a7c8-4aaa-c665-ee003220cf67"
      },
      "execution_count": null,
      "outputs": [
        {
          "output_type": "stream",
          "name": "stdout",
          "text": [
            "InceptionV3 + DenseNet201:\n",
            "              precision    recall  f1-score   support\n",
            "\n",
            "           0       0.90      0.91      0.90       114\n",
            "           1       0.77      0.84      0.80        89\n",
            "           2       0.85      0.56      0.67        50\n",
            "           3       0.91      0.93      0.92        44\n",
            "           4       0.84      0.97      0.90        33\n",
            "\n",
            "   micro avg       0.85      0.85      0.85       330\n",
            "   macro avg       0.85      0.84      0.84       330\n",
            "weighted avg       0.85      0.85      0.84       330\n",
            " samples avg       0.85      0.85      0.85       330\n",
            "\n"
          ]
        }
      ]
    }
  ]
}